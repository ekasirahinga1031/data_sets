{
 "metadata": {
  "language_info": {
   "codemirror_mode": {
    "name": "ipython",
    "version": 3
   },
   "file_extension": ".py",
   "mimetype": "text/x-python",
   "name": "python",
   "nbconvert_exporter": "python",
   "pygments_lexer": "ipython3",
   "version": "3.9.7"
  },
  "orig_nbformat": 2,
  "kernelspec": {
   "name": "python3",
   "display_name": "Python 3.9.7 64-bit"
  },
  "interpreter": {
   "hash": "aee8b7b246df8f9039afb4144a1f6fd8d2ca17a180786b69acc140d282b71a49"
  }
 },
 "nbformat": 4,
 "nbformat_minor": 2,
 "cells": [
  {
   "cell_type": "markdown",
   "source": [
    "Question 1:\n",
    "\n",
    "Create a data frame and find out the total number of rows and columns. Use a Markdown cell to record your answer. "
   ],
   "metadata": {}
  },
  {
   "cell_type": "code",
   "execution_count": null,
   "source": [
    "import pandas as pd\n",
    "import numpy as np\n",
    "df=pd.read_csv(\"movies_metadata.csv\")\n",
    "df.columns\n"
   ],
   "outputs": [],
   "metadata": {}
  },
  {
   "cell_type": "markdown",
   "source": [
    "Exercise 1: What is the max budget of all movies?"
   ],
   "metadata": {}
  },
  {
   "cell_type": "code",
   "execution_count": null,
   "source": [
    "#Exercise 1\n",
    "print(max(df['budget']))"
   ],
   "outputs": [],
   "metadata": {}
  },
  {
   "cell_type": "markdown",
   "source": [
    "Exercise 2: How many movies have a budget over 100 million dollars?"
   ],
   "metadata": {}
  },
  {
   "cell_type": "code",
   "execution_count": null,
   "source": [
    "#Exercise 2\n",
    "count=0\n",
    "for i in df['budget']:\n",
    "    if i>100000000:\n",
    "        count=count+1\n",
    "print(\"There are {} with a budget over 100 million\".format(count))"
   ],
   "outputs": [],
   "metadata": {}
  },
  {
   "cell_type": "markdown",
   "source": [
    "Exercise 3: How many movies have a budget over 100 million dollars and has a rating higher than 7.5? List these movies. "
   ],
   "metadata": {}
  },
  {
   "cell_type": "code",
   "execution_count": null,
   "source": [
    "#Exercise 3\n",
    "for i in range(len(df)):\n",
    "    if float(df.iloc[i,22])>100000000 and float(df.iloc[i,-3])>7.5:\n",
    "        print(df.iloc[i,11])"
   ],
   "outputs": [],
   "metadata": {}
  },
  {
   "cell_type": "markdown",
   "source": [
    "Exercise 4: What are the name and release date of the movie that has a rating higher than 9.9?"
   ],
   "metadata": {}
  },
  {
   "cell_type": "code",
   "execution_count": null,
   "source": [
    "#Exercise 4\n",
    "for i in range(len(df)):\n",
    "    if float(df.iloc[i,-3])>9.9:\n",
    "        print(df.iloc[i,11],df.iloc[i,2])\n",
    "        "
   ],
   "outputs": [],
   "metadata": {}
  },
  {
   "cell_type": "markdown",
   "source": [
    "Exercise 5: List the movies that have a budget over 1 million dollars and name starts with 'Z'?"
   ],
   "metadata": {}
  },
  {
   "cell_type": "code",
   "execution_count": null,
   "source": [
    "#Exercise 5\n",
    "for i in range(len(df)):\n",
    "    if float(df.iloc[i,22])>100000000 and ((df.iloc[i,11])[0]).lower()=='z':\n",
    "        print(df.iloc[i,11])"
   ],
   "outputs": [],
   "metadata": {}
  }
 ]
}